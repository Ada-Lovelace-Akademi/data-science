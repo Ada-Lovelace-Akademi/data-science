{
 "cells": [
  {
   "cell_type": "code",
   "execution_count": 5,
   "metadata": {},
   "outputs": [],
   "source": [
    "from config.config import YOUTUBE_API_KEY\n",
    "from googleapiclient.discovery import build\n",
    "from IPython.display import JSON\n",
    "import pandas as pd"
   ]
  },
  {
   "cell_type": "code",
   "execution_count": 5,
   "metadata": {},
   "outputs": [
    {
     "name": "stdout",
     "output_type": "stream",
     "text": [
      "{'kind': 'youtube#channelListResponse', 'etag': 'wt-lcFz9ri-QMZAJZnUrtETWhbI', 'pageInfo': {'totalResults': 1, 'resultsPerPage': 5}, 'items': [{'kind': 'youtube#channel', 'etag': 'AEhF68XsRwq7SKo5_4lKgSJTSFc', 'id': 'UCYO_jab_esuFRV4b17AJtAw', 'snippet': {'title': '3Blue1Brown', 'description': 'My name is Grant Sanderson. Videos here cover a variety of topics in math, or adjacent fields like physics and CS, all with an emphasis on visualizing the core ideas. To goal is to use animation to help elucidate and motivate otherwise tricky topics, and for difficult problems to be made simple with changes in perspective.\\n\\nFor more information, other projects, FAQs, and inquiries see the website: https://www.3blue1brown.com', 'customUrl': '@3blue1brown', 'publishedAt': '2015-03-03T23:11:55Z', 'thumbnails': {'default': {'url': 'https://yt3.ggpht.com/ytc/AIf8zZSApZdSBilmxjGARJbX1WdIFYXFv69aixy9FcJraA=s88-c-k-c0x00ffffff-no-rj', 'width': 88, 'height': 88}, 'medium': {'url': 'https://yt3.ggpht.com/ytc/AIf8zZSApZdSBilmxjGARJbX1WdIFYXFv69aixy9FcJraA=s240-c-k-c0x00ffffff-no-rj', 'width': 240, 'height': 240}, 'high': {'url': 'https://yt3.ggpht.com/ytc/AIf8zZSApZdSBilmxjGARJbX1WdIFYXFv69aixy9FcJraA=s800-c-k-c0x00ffffff-no-rj', 'width': 800, 'height': 800}}, 'localized': {'title': '3Blue1Brown', 'description': 'My name is Grant Sanderson. Videos here cover a variety of topics in math, or adjacent fields like physics and CS, all with an emphasis on visualizing the core ideas. To goal is to use animation to help elucidate and motivate otherwise tricky topics, and for difficult problems to be made simple with changes in perspective.\\n\\nFor more information, other projects, FAQs, and inquiries see the website: https://www.3blue1brown.com'}, 'country': 'US'}, 'contentDetails': {'relatedPlaylists': {'likes': '', 'uploads': 'UUYO_jab_esuFRV4b17AJtAw'}}, 'statistics': {'viewCount': '404355901', 'subscriberCount': '5710000', 'hiddenSubscriberCount': False, 'videoCount': '157'}}]}\n"
     ]
    }
   ],
   "source": [
    "api_service_name = \"youtube\"\n",
    "api_version = \"v3\"\n",
    "\n",
    "channel_ids = [\n",
    "    \"UCYO_jab_esuFRV4b17AJtAw\",\n",
    "    # Can add more channels\n",
    "]\n",
    "\n",
    "# Get credentials and create an API client\n",
    "\n",
    "youtube = build(\n",
    "    api_service_name, api_version, developerKey=YOUTUBE_API_KEY)\n",
    "\n",
    "request = youtube.channels().list(\n",
    "    part=\"snippet,contentDetails,statistics\",\n",
    "    id=\",\".join(channel_ids)\n",
    ")\n",
    "response = request.execute()\n",
    "\n",
    "print(response)"
   ]
  },
  {
   "cell_type": "code",
   "execution_count": 8,
   "metadata": {},
   "outputs": [
    {
     "data": {
      "application/json": {
       "etag": "wt-lcFz9ri-QMZAJZnUrtETWhbI",
       "items": [
        {
         "contentDetails": {
          "relatedPlaylists": {
           "likes": "",
           "uploads": "UUYO_jab_esuFRV4b17AJtAw"
          }
         },
         "etag": "AEhF68XsRwq7SKo5_4lKgSJTSFc",
         "id": "UCYO_jab_esuFRV4b17AJtAw",
         "kind": "youtube#channel",
         "snippet": {
          "country": "US",
          "customUrl": "@3blue1brown",
          "description": "My name is Grant Sanderson. Videos here cover a variety of topics in math, or adjacent fields like physics and CS, all with an emphasis on visualizing the core ideas. To goal is to use animation to help elucidate and motivate otherwise tricky topics, and for difficult problems to be made simple with changes in perspective.\n\nFor more information, other projects, FAQs, and inquiries see the website: https://www.3blue1brown.com",
          "localized": {
           "description": "My name is Grant Sanderson. Videos here cover a variety of topics in math, or adjacent fields like physics and CS, all with an emphasis on visualizing the core ideas. To goal is to use animation to help elucidate and motivate otherwise tricky topics, and for difficult problems to be made simple with changes in perspective.\n\nFor more information, other projects, FAQs, and inquiries see the website: https://www.3blue1brown.com",
           "title": "3Blue1Brown"
          },
          "publishedAt": "2015-03-03T23:11:55Z",
          "thumbnails": {
           "default": {
            "height": 88,
            "url": "https://yt3.ggpht.com/ytc/AIf8zZSApZdSBilmxjGARJbX1WdIFYXFv69aixy9FcJraA=s88-c-k-c0x00ffffff-no-rj",
            "width": 88
           },
           "high": {
            "height": 800,
            "url": "https://yt3.ggpht.com/ytc/AIf8zZSApZdSBilmxjGARJbX1WdIFYXFv69aixy9FcJraA=s800-c-k-c0x00ffffff-no-rj",
            "width": 800
           },
           "medium": {
            "height": 240,
            "url": "https://yt3.ggpht.com/ytc/AIf8zZSApZdSBilmxjGARJbX1WdIFYXFv69aixy9FcJraA=s240-c-k-c0x00ffffff-no-rj",
            "width": 240
           }
          },
          "title": "3Blue1Brown"
         },
         "statistics": {
          "hiddenSubscriberCount": false,
          "subscriberCount": "5710000",
          "videoCount": "157",
          "viewCount": "404355901"
         }
        }
       ],
       "kind": "youtube#channelListResponse",
       "pageInfo": {
        "resultsPerPage": 5,
        "totalResults": 1
       }
      },
      "text/plain": [
       "<IPython.core.display.JSON object>"
      ]
     },
     "execution_count": 8,
     "metadata": {
      "application/json": {
       "expanded": false,
       "root": "root"
      }
     },
     "output_type": "execute_result"
    }
   ],
   "source": [
    "JSON(response)"
   ]
  },
  {
   "cell_type": "code",
   "execution_count": 6,
   "metadata": {},
   "outputs": [],
   "source": [
    "api_service_name = \"youtube\"\n",
    "api_version = \"v3\"\n",
    "\n",
    "channel_ids = [\n",
    "    \"UCYO_jab_esuFRV4b17AJtAw\",\n",
    "    # Can add more channels\n",
    "]\n",
    "\n",
    "# Get credentials and create an API client\n",
    "youtube = build(api_service_name, api_version, developerKey=YOUTUBE_API_KEY)"
   ]
  },
  {
   "cell_type": "code",
   "execution_count": 15,
   "metadata": {},
   "outputs": [],
   "source": [
    "def get_channel_stats(youtube, channel_ids):\n",
    "    all_data = []\n",
    "\n",
    "    request = youtube.channels().list(\n",
    "        part=\"snippet,contentDetails,statistics\",\n",
    "        id=\",\".join(channel_ids)\n",
    "    )\n",
    "\n",
    "    response = request.execute()\n",
    "\n",
    "    # loop through items in response\n",
    "    for item in response[\"items\"]:\n",
    "        data = {'channelName': item['snippet']['title'],\n",
    "                'subscribers': item['statistics']['subscriberCount'],\n",
    "                'views': item['statistics']['viewCount'],\n",
    "                'totalVideos': item['statistics']['videoCount'],\n",
    "                'playlistId': item['contentDetails']['relatedPlaylists']['uploads']\n",
    "        }\n",
    "        all_data.append(data)\n",
    "    \n",
    "    return pd.DataFrame(all_data)"
   ]
  },
  {
   "cell_type": "code",
   "execution_count": 13,
   "metadata": {},
   "outputs": [],
   "source": [
    "channel_ids = get_channel_stats(youtube, channel_ids)"
   ]
  },
  {
   "cell_type": "code",
   "execution_count": 16,
   "metadata": {},
   "outputs": [
    {
     "data": {
      "text/html": [
       "<div>\n",
       "<style scoped>\n",
       "    .dataframe tbody tr th:only-of-type {\n",
       "        vertical-align: middle;\n",
       "    }\n",
       "\n",
       "    .dataframe tbody tr th {\n",
       "        vertical-align: top;\n",
       "    }\n",
       "\n",
       "    .dataframe thead th {\n",
       "        text-align: right;\n",
       "    }\n",
       "</style>\n",
       "<table border=\"1\" class=\"dataframe\">\n",
       "  <thead>\n",
       "    <tr style=\"text-align: right;\">\n",
       "      <th></th>\n",
       "      <th>channelName</th>\n",
       "      <th>subscribers</th>\n",
       "      <th>views</th>\n",
       "      <th>totalVideos</th>\n",
       "      <th>playlistId</th>\n",
       "    </tr>\n",
       "  </thead>\n",
       "  <tbody>\n",
       "    <tr>\n",
       "      <th>0</th>\n",
       "      <td>3Blue1Brown</td>\n",
       "      <td>5710000</td>\n",
       "      <td>404355901</td>\n",
       "      <td>157</td>\n",
       "      <td>UUYO_jab_esuFRV4b17AJtAw</td>\n",
       "    </tr>\n",
       "  </tbody>\n",
       "</table>\n",
       "</div>"
      ],
      "text/plain": [
       "   channelName subscribers      views totalVideos                playlistId\n",
       "0  3Blue1Brown     5710000  404355901         157  UUYO_jab_esuFRV4b17AJtAw"
      ]
     },
     "execution_count": 16,
     "metadata": {},
     "output_type": "execute_result"
    }
   ],
   "source": [
    "channel_ids"
   ]
  },
  {
   "cell_type": "code",
   "execution_count": 17,
   "metadata": {},
   "outputs": [],
   "source": [
    "request = youtube.playlistItems().list(\n",
    "        part=\"snippet,contentDetails\",\n",
    "        playlistId=\"UUYO_jab_esuFRV4b17AJtAw\"\n",
    "    )\n",
    "response = request.execute()"
   ]
  },
  {
   "cell_type": "code",
   "execution_count": 18,
   "metadata": {},
   "outputs": [
    {
     "data": {
      "application/json": {
       "etag": "E6QFTnCwCVWLZnEZBtHsyN3yL6k",
       "items": [
        {
         "contentDetails": {
          "videoId": "tjIOqIr80ns",
          "videoPublishedAt": "2023-12-23T00:00:26Z"
         },
         "etag": "rLHV6d9EI4usyDtIbsjWfqVObSA",
         "id": "VVVZT19qYWJfZXN1RlJWNGIxN0FKdEF3LnRqSU9xSXI4MG5z",
         "kind": "youtube#playlistItem",
         "snippet": {
          "channelId": "UCYO_jab_esuFRV4b17AJtAw",
          "channelTitle": "3Blue1Brown",
          "description": "A link to the full video is at the bottom of the screen.\nOr, for reference: https://youtu.be/VYQVlVoWoPY\n\nThat video gives multiple examples of lying with visual proofs\n\nEditing from the original video into this short by Dawid Kołodziej",
          "playlistId": "UUYO_jab_esuFRV4b17AJtAw",
          "position": 0,
          "publishedAt": "2023-12-23T00:00:26Z",
          "resourceId": {
           "kind": "youtube#video",
           "videoId": "tjIOqIr80ns"
          },
          "thumbnails": {
           "default": {
            "height": 90,
            "url": "https://i.ytimg.com/vi/tjIOqIr80ns/default.jpg",
            "width": 120
           },
           "high": {
            "height": 360,
            "url": "https://i.ytimg.com/vi/tjIOqIr80ns/hqdefault.jpg",
            "width": 480
           },
           "maxres": {
            "height": 720,
            "url": "https://i.ytimg.com/vi/tjIOqIr80ns/maxresdefault.jpg",
            "width": 1280
           },
           "medium": {
            "height": 180,
            "url": "https://i.ytimg.com/vi/tjIOqIr80ns/mqdefault.jpg",
            "width": 320
           },
           "standard": {
            "height": 480,
            "url": "https://i.ytimg.com/vi/tjIOqIr80ns/sddefault.jpg",
            "width": 640
           }
          },
          "title": "The limit of limiting arguments",
          "videoOwnerChannelId": "UCYO_jab_esuFRV4b17AJtAw",
          "videoOwnerChannelTitle": "3Blue1Brown"
         }
        },
        {
         "contentDetails": {
          "videoId": "W1gW1dHRsOw",
          "videoPublishedAt": "2023-12-21T00:15:02Z"
         },
         "etag": "BaziSqCCbNkLFFnBPZpY7hVAt5A",
         "id": "VVVZT19qYWJfZXN1RlJWNGIxN0FKdEF3LlcxZ1cxZEhSc093",
         "kind": "youtube#playlistItem",
         "snippet": {
          "channelId": "UCYO_jab_esuFRV4b17AJtAw",
          "channelTitle": "3Blue1Brown",
          "description": "YouTube disabled links in descriptions and comments, but we can add links to videos on the shorts player itself. For reference, the one at the bottom of this screen is https://youtu.be/KTzGBJPuJwM",
          "playlistId": "UUYO_jab_esuFRV4b17AJtAw",
          "position": 1,
          "publishedAt": "2023-12-21T00:15:02Z",
          "resourceId": {
           "kind": "youtube#video",
           "videoId": "W1gW1dHRsOw"
          },
          "thumbnails": {
           "default": {
            "height": 90,
            "url": "https://i.ytimg.com/vi/W1gW1dHRsOw/default.jpg",
            "width": 120
           },
           "high": {
            "height": 360,
            "url": "https://i.ytimg.com/vi/W1gW1dHRsOw/hqdefault.jpg",
            "width": 480
           },
           "maxres": {
            "height": 720,
            "url": "https://i.ytimg.com/vi/W1gW1dHRsOw/maxresdefault.jpg",
            "width": 1280
           },
           "medium": {
            "height": 180,
            "url": "https://i.ytimg.com/vi/W1gW1dHRsOw/mqdefault.jpg",
            "width": 320
           },
           "standard": {
            "height": 480,
            "url": "https://i.ytimg.com/vi/W1gW1dHRsOw/sddefault.jpg",
            "width": 640
           }
          },
          "title": "For anyone who might not know how links in shorts work",
          "videoOwnerChannelId": "UCYO_jab_esuFRV4b17AJtAw",
          "videoOwnerChannelTitle": "3Blue1Brown"
         }
        },
        {
         "contentDetails": {
          "videoId": "p9i3cYMQtBY",
          "videoPublishedAt": "2023-12-21T00:00:20Z"
         },
         "etag": "ItSif2_m7aHvlhrRwKFwGXi7XaU",
         "id": "VVVZT19qYWJfZXN1RlJWNGIxN0FKdEF3LnA5aTNjWU1RdEJZ",
         "kind": "youtube#playlistItem",
         "snippet": {
          "channelId": "UCYO_jab_esuFRV4b17AJtAw",
          "channelTitle": "3Blue1Brown",
          "description": "A link to the full video is at the bottom of the screen.\nOr, for reference: https://youtu.be/d-o3eB9sfls",
          "playlistId": "UUYO_jab_esuFRV4b17AJtAw",
          "position": 2,
          "publishedAt": "2023-12-21T00:00:20Z",
          "resourceId": {
           "kind": "youtube#video",
           "videoId": "p9i3cYMQtBY"
          },
          "thumbnails": {
           "default": {
            "height": 90,
            "url": "https://i.ytimg.com/vi/p9i3cYMQtBY/default.jpg",
            "width": 120
           },
           "high": {
            "height": 360,
            "url": "https://i.ytimg.com/vi/p9i3cYMQtBY/hqdefault.jpg",
            "width": 480
           },
           "maxres": {
            "height": 720,
            "url": "https://i.ytimg.com/vi/p9i3cYMQtBY/maxresdefault.jpg",
            "width": 1280
           },
           "medium": {
            "height": 180,
            "url": "https://i.ytimg.com/vi/p9i3cYMQtBY/mqdefault.jpg",
            "width": 320
           },
           "standard": {
            "height": 480,
            "url": "https://i.ytimg.com/vi/p9i3cYMQtBY/sddefault.jpg",
            "width": 640
           }
          },
          "title": "Infinite Lighthouses and π",
          "videoOwnerChannelId": "UCYO_jab_esuFRV4b17AJtAw",
          "videoOwnerChannelTitle": "3Blue1Brown"
         }
        },
        {
         "contentDetails": {
          "videoId": "X4jpqCu-wlA",
          "videoPublishedAt": "2023-12-16T00:00:24Z"
         },
         "etag": "aJ_91MWeVC1wY7cDa9GRLBKY0aE",
         "id": "VVVZT19qYWJfZXN1RlJWNGIxN0FKdEF3Llg0anBxQ3Utd2xB",
         "kind": "youtube#playlistItem",
         "snippet": {
          "channelId": "UCYO_jab_esuFRV4b17AJtAw",
          "channelTitle": "3Blue1Brown",
          "description": "Originally written as a supplement to an explanation of the cryptography behind Bitcoin: https://youtu.be/bBC-nXj3Ng4\n(An active link is on the bottom of the video player)",
          "playlistId": "UUYO_jab_esuFRV4b17AJtAw",
          "position": 3,
          "publishedAt": "2023-12-16T00:00:24Z",
          "resourceId": {
           "kind": "youtube#video",
           "videoId": "X4jpqCu-wlA"
          },
          "thumbnails": {
           "default": {
            "height": 90,
            "url": "https://i.ytimg.com/vi/X4jpqCu-wlA/default.jpg",
            "width": 120
           },
           "high": {
            "height": 360,
            "url": "https://i.ytimg.com/vi/X4jpqCu-wlA/hqdefault.jpg",
            "width": 480
           },
           "maxres": {
            "height": 720,
            "url": "https://i.ytimg.com/vi/X4jpqCu-wlA/maxresdefault.jpg",
            "width": 1280
           },
           "medium": {
            "height": 180,
            "url": "https://i.ytimg.com/vi/X4jpqCu-wlA/mqdefault.jpg",
            "width": 320
           },
           "standard": {
            "height": 480,
            "url": "https://i.ytimg.com/vi/X4jpqCu-wlA/sddefault.jpg",
            "width": 640
           }
          },
          "title": "Can you even imagine 2^256?",
          "videoOwnerChannelId": "UCYO_jab_esuFRV4b17AJtAw",
          "videoOwnerChannelTitle": "3Blue1Brown"
         }
        },
        {
         "contentDetails": {
          "videoId": "GOSezO0CHss",
          "videoPublishedAt": "2023-12-15T00:00:13Z"
         },
         "etag": "AU1dhgvYpihpL08T26BlEM-oKyA",
         "id": "VVVZT19qYWJfZXN1RlJWNGIxN0FKdEF3LkdPU2V6TzBDSHNz",
         "kind": "youtube#playlistItem",
         "snippet": {
          "channelId": "UCYO_jab_esuFRV4b17AJtAw",
          "channelTitle": "3Blue1Brown",
          "description": "A link to the full video on the Central Limit Theorem is at the bottom of the screen.\nOr, for reference: https://youtu.be/zeJD6dqJ5lo\n\nThanks to Dawid Kołodziej from long-to-short editing",
          "playlistId": "UUYO_jab_esuFRV4b17AJtAw",
          "position": 4,
          "publishedAt": "2023-12-15T00:00:13Z",
          "resourceId": {
           "kind": "youtube#video",
           "videoId": "GOSezO0CHss"
          },
          "thumbnails": {
           "default": {
            "height": 90,
            "url": "https://i.ytimg.com/vi/GOSezO0CHss/default.jpg",
            "width": 120
           },
           "high": {
            "height": 360,
            "url": "https://i.ytimg.com/vi/GOSezO0CHss/hqdefault.jpg",
            "width": 480
           },
           "maxres": {
            "height": 720,
            "url": "https://i.ytimg.com/vi/GOSezO0CHss/maxresdefault.jpg",
            "width": 1280
           },
           "medium": {
            "height": 180,
            "url": "https://i.ytimg.com/vi/GOSezO0CHss/mqdefault.jpg",
            "width": 320
           },
           "standard": {
            "height": 480,
            "url": "https://i.ytimg.com/vi/GOSezO0CHss/sddefault.jpg",
            "width": 640
           }
          },
          "title": "Order from chaos",
          "videoOwnerChannelId": "UCYO_jab_esuFRV4b17AJtAw",
          "videoOwnerChannelTitle": "3Blue1Brown"
         }
        }
       ],
       "kind": "youtube#playlistItemListResponse",
       "nextPageToken": "EAAafVBUOkNBVWlFRVJFUlRSQ05rUkVNek5FTUVZMU16TW9BVWpBMGFLcG9LU0RBMUFCV2pnaVEyaG9WbFpXYkZCWU1uQm9XV3c1YkdNelZrZFZiRmt3V1dwRk0xRlZjREJSV0dOVFJFRnBZWGh3YVhOQ2FFTkJNVkJMWWtGM0ln",
       "pageInfo": {
        "resultsPerPage": 5,
        "totalResults": 157
       }
      },
      "text/plain": [
       "<IPython.core.display.JSON object>"
      ]
     },
     "execution_count": 18,
     "metadata": {
      "application/json": {
       "expanded": false,
       "root": "root"
      }
     },
     "output_type": "execute_result"
    }
   ],
   "source": [
    "JSON(response)"
   ]
  },
  {
   "cell_type": "code",
   "execution_count": 11,
   "metadata": {},
   "outputs": [],
   "source": [
    "def get_video_ids(youtube, playlist_id):\n",
    "    video_ids = []\n",
    "\n",
    "    request = youtube.playlistItems().list(\n",
    "            part=\"snippet,contentDetails\",\n",
    "            playlistId=playlist_id\n",
    "        )\n",
    "    response = request.execute()\n",
    "\n",
    "    for item in response['items']:\n",
    "        video_ids.append(item['contentDetails']['videoId'])\n",
    "        \n",
    "    return video_ids"
   ]
  },
  {
   "cell_type": "code",
   "execution_count": 9,
   "metadata": {},
   "outputs": [],
   "source": [
    "playlist_id = \"UUYO_jab_esuFRV4b17AJtAw\"\n",
    "\n",
    "video_ids = get_video_ids(youtube, playlist_id)"
   ]
  },
  {
   "cell_type": "code",
   "execution_count": 10,
   "metadata": {},
   "outputs": [
    {
     "data": {
      "text/plain": [
       "['tjIOqIr80ns', 'W1gW1dHRsOw', 'p9i3cYMQtBY', 'X4jpqCu-wlA', 'GOSezO0CHss']"
      ]
     },
     "execution_count": 10,
     "metadata": {},
     "output_type": "execute_result"
    }
   ],
   "source": [
    "video_ids"
   ]
  },
  {
   "cell_type": "code",
   "execution_count": 19,
   "metadata": {},
   "outputs": [],
   "source": [
    "def get_video_ids(youtube, playlist_id):\n",
    "    video_ids = []\n",
    "\n",
    "    request = youtube.playlistItems().list(\n",
    "            part=\"snippet,contentDetails\",\n",
    "            playlistId=playlist_id,\n",
    "            maxResults=50\n",
    "        )\n",
    "    response = request.execute()\n",
    "\n",
    "    for item in response['items']:\n",
    "        video_ids.append(item['contentDetails']['videoId'])\n",
    "\n",
    "    next_page_token = response.get('nextPageToken')\n",
    "    \n",
    "    while next_page_token is not None:\n",
    "        request = youtube.playlistItems().list(\n",
    "                part=\"snippet,contentDetails\",\n",
    "                playlistId=playlist_id,\n",
    "                maxResults=50,\n",
    "                pageToken=next_page_token\n",
    "            )\n",
    "        response = request.execute()\n",
    "\n",
    "        for item in response['items']:\n",
    "            video_ids.append(item['contentDetails']['videoId'])\n",
    "\n",
    "        next_page_token = response.get('nextPageToken')    \n",
    "\n",
    "        \n",
    "    return video_ids"
   ]
  },
  {
   "cell_type": "code",
   "execution_count": 20,
   "metadata": {},
   "outputs": [],
   "source": [
    "playlist_id = \"UUYO_jab_esuFRV4b17AJtAw\"\n",
    "\n",
    "video_ids = get_video_ids(youtube, playlist_id)"
   ]
  },
  {
   "cell_type": "code",
   "execution_count": 21,
   "metadata": {},
   "outputs": [
    {
     "data": {
      "text/plain": [
       "157"
      ]
     },
     "execution_count": 21,
     "metadata": {},
     "output_type": "execute_result"
    }
   ],
   "source": [
    "len(video_ids)"
   ]
  }
 ],
 "metadata": {
  "kernelspec": {
   "display_name": "Python 3",
   "language": "python",
   "name": "python3"
  },
  "language_info": {
   "codemirror_mode": {
    "name": "ipython",
    "version": 3
   },
   "file_extension": ".py",
   "mimetype": "text/x-python",
   "name": "python",
   "nbconvert_exporter": "python",
   "pygments_lexer": "ipython3",
   "version": "3.11.5"
  }
 },
 "nbformat": 4,
 "nbformat_minor": 2
}
