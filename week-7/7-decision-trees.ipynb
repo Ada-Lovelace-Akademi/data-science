{
 "cells": [
  {
   "cell_type": "markdown",
   "metadata": {},
   "source": [
    "# Intro to Decision Trees"
   ]
  },
  {
   "cell_type": "markdown",
   "metadata": {},
   "source": [
    "## Building a decision tree with the training set\n",
    "\n",
    "Classes are:\n",
    "Drug <A>\n",
    "Drug <B>\n",
    "\n",
    "Decision Tree:\n",
    "- age\n",
    "    - young\n",
    "        - sex\n",
    "            - F <A>\n",
    "            - M <B>\n",
    "    - middle-age <B>\n",
    "\n",
    "    - senior\n",
    "        - cholesterol\n",
    "            - high <A>\n",
    "            - normal <B>"
   ]
  },
  {
   "cell_type": "markdown",
   "metadata": {},
   "source": [
    "- Each \"internal node\" corresponds to a test.\n",
    "- And each \"branch\" corresponds to a result of the test.\n",
    "- And each \"leaf node\" assigns a patient to a class."
   ]
  },
  {
   "cell_type": "markdown",
   "metadata": {},
   "source": [
    "1- Choose an attribute from dataset\n",
    "2- Calculate the significance of the attribute in the splitting of the data.\n",
    "3- Split the data based on the value of the best attribute.\n",
    "4- Go to step 1."
   ]
  },
  {
   "cell_type": "markdown",
   "metadata": {},
   "source": [
    "# Building Decision Trees"
   ]
  },
  {
   "cell_type": "markdown",
   "metadata": {},
   "source": [
    "Decision trees are built using recursive partitioning to classify the data."
   ]
  },
  {
   "cell_type": "markdown",
   "metadata": {},
   "source": [
    "- More predictiveness\n",
    "- Less Impurity\n",
    "- Lower Entropy"
   ]
  },
  {
   "cell_type": "markdown",
   "metadata": {},
   "source": [
    "\"Pure Node\": A node in the tree is considered pure if, in all of the cases, the nodes fall into a spesific category. "
   ]
  },
  {
   "cell_type": "markdown",
   "metadata": {},
   "source": [
    "## Entropy\n",
    "Information disorder or randomness in the data.\n",
    "The entropy is used to calculate the homogeneity of the samples in that node.\n",
    "- # TODO Check entropy formula"
   ]
  },
  {
   "cell_type": "markdown",
   "metadata": {},
   "source": [
    "\"The tree with the higher information gain after splitting.\"\n",
    "Information gain = Entropy before split - Weighted entropy after split"
   ]
  }
 ],
 "metadata": {
  "kernelspec": {
   "display_name": "Python 3",
   "language": "python",
   "name": "python3"
  },
  "language_info": {
   "name": "python",
   "version": "3.10.13"
  }
 },
 "nbformat": 4,
 "nbformat_minor": 2
}
